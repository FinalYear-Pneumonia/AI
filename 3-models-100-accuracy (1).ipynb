{
 "cells": [
  {
   "cell_type": "code",
   "execution_count": 1,
   "id": "01236ea3",
   "metadata": {
    "_cell_guid": "b1076dfc-b9ad-4769-8c92-a6c4dae69d19",
    "_uuid": "8f2839f25d086af736a60e9eeb907d3b93b6e0e5",
    "execution": {
     "iopub.execute_input": "2023-07-08T14:35:01.993846Z",
     "iopub.status.busy": "2023-07-08T14:35:01.993196Z",
     "iopub.status.idle": "2023-07-08T14:35:02.022780Z",
     "shell.execute_reply": "2023-07-08T14:35:02.021710Z"
    },
    "papermill": {
     "duration": 0.060569,
     "end_time": "2023-07-08T14:35:02.028057",
     "exception": false,
     "start_time": "2023-07-08T14:35:01.967488",
     "status": "completed"
    },
    "tags": []
   },
   "outputs": [
    {
     "name": "stdout",
     "output_type": "stream",
     "text": [
      "/kaggle/input/symptom2disease/Symptom2Disease.csv\n"
     ]
    }
   ],
   "source": [
    "# This Python 3 environment comes with many helpful analytics libraries installed\n",
    "# It is defined by the kaggle/python Docker image: https://github.com/kaggle/docker-python\n",
    "# For example, here's several helpful packages to load\n",
    "\n",
    "import numpy as np # linear algebra\n",
    "import pandas as pd # data processing, CSV file I/O (e.g. pd.read_csv)\n",
    "\n",
    "# Input data files are available in the read-only \"../input/\" directory\n",
    "# For example, running this (by clicking run or pressing Shift+Enter) will list all files under the input directory\n",
    "\n",
    "import os\n",
    "for dirname, _, filenames in os.walk('/kaggle/input'):\n",
    "    for filename in filenames:\n",
    "        print(os.path.join(dirname, filename))\n",
    "\n",
    "# You can write up to 20GB to the current directory (/kaggle/working/) that gets preserved as output when you create a version using \"Save & Run All\" \n",
    "# You can also write temporary files to /kaggle/temp/, but they won't be saved outside of the current session"
   ]
  },
  {
   "cell_type": "markdown",
   "id": "4fb083ec",
   "metadata": {
    "papermill": {
     "duration": 0.021183,
     "end_time": "2023-07-08T14:35:02.071469",
     "exception": false,
     "start_time": "2023-07-08T14:35:02.050286",
     "status": "completed"
    },
    "tags": []
   },
   "source": [
    "# Data loading and exploring"
   ]
  },
  {
   "cell_type": "code",
   "execution_count": 2,
   "id": "30efa03a",
   "metadata": {
    "execution": {
     "iopub.execute_input": "2023-07-08T14:35:02.115705Z",
     "iopub.status.busy": "2023-07-08T14:35:02.115226Z",
     "iopub.status.idle": "2023-07-08T14:35:02.143278Z",
     "shell.execute_reply": "2023-07-08T14:35:02.141994Z"
    },
    "papermill": {
     "duration": 0.052939,
     "end_time": "2023-07-08T14:35:02.146429",
     "exception": false,
     "start_time": "2023-07-08T14:35:02.093490",
     "status": "completed"
    },
    "tags": []
   },
   "outputs": [],
   "source": [
    "data = pd.read_csv(\"/kaggle/input/symptom2disease/Symptom2Disease.csv\")"
   ]
  },
  {
   "cell_type": "code",
   "execution_count": 3,
   "id": "c8cd8781",
   "metadata": {
    "execution": {
     "iopub.execute_input": "2023-07-08T14:35:02.196639Z",
     "iopub.status.busy": "2023-07-08T14:35:02.196142Z",
     "iopub.status.idle": "2023-07-08T14:35:02.217702Z",
     "shell.execute_reply": "2023-07-08T14:35:02.216748Z"
    },
    "papermill": {
     "duration": 0.048392,
     "end_time": "2023-07-08T14:35:02.220723",
     "exception": false,
     "start_time": "2023-07-08T14:35:02.172331",
     "status": "completed"
    },
    "tags": []
   },
   "outputs": [
    {
     "data": {
      "text/html": [
       "<div>\n",
       "<style scoped>\n",
       "    .dataframe tbody tr th:only-of-type {\n",
       "        vertical-align: middle;\n",
       "    }\n",
       "\n",
       "    .dataframe tbody tr th {\n",
       "        vertical-align: top;\n",
       "    }\n",
       "\n",
       "    .dataframe thead th {\n",
       "        text-align: right;\n",
       "    }\n",
       "</style>\n",
       "<table border=\"1\" class=\"dataframe\">\n",
       "  <thead>\n",
       "    <tr style=\"text-align: right;\">\n",
       "      <th></th>\n",
       "      <th>Unnamed: 0</th>\n",
       "      <th>label</th>\n",
       "      <th>text</th>\n",
       "    </tr>\n",
       "  </thead>\n",
       "  <tbody>\n",
       "    <tr>\n",
       "      <th>0</th>\n",
       "      <td>0</td>\n",
       "      <td>Psoriasis</td>\n",
       "      <td>I have been experiencing a skin rash on my arm...</td>\n",
       "    </tr>\n",
       "    <tr>\n",
       "      <th>1</th>\n",
       "      <td>1</td>\n",
       "      <td>Psoriasis</td>\n",
       "      <td>My skin has been peeling, especially on my kne...</td>\n",
       "    </tr>\n",
       "    <tr>\n",
       "      <th>2</th>\n",
       "      <td>2</td>\n",
       "      <td>Psoriasis</td>\n",
       "      <td>I have been experiencing joint pain in my fing...</td>\n",
       "    </tr>\n",
       "    <tr>\n",
       "      <th>3</th>\n",
       "      <td>3</td>\n",
       "      <td>Psoriasis</td>\n",
       "      <td>There is a silver like dusting on my skin, esp...</td>\n",
       "    </tr>\n",
       "    <tr>\n",
       "      <th>4</th>\n",
       "      <td>4</td>\n",
       "      <td>Psoriasis</td>\n",
       "      <td>My nails have small dents or pits in them, and...</td>\n",
       "    </tr>\n",
       "  </tbody>\n",
       "</table>\n",
       "</div>"
      ],
      "text/plain": [
       "   Unnamed: 0      label                                               text\n",
       "0           0  Psoriasis  I have been experiencing a skin rash on my arm...\n",
       "1           1  Psoriasis  My skin has been peeling, especially on my kne...\n",
       "2           2  Psoriasis  I have been experiencing joint pain in my fing...\n",
       "3           3  Psoriasis  There is a silver like dusting on my skin, esp...\n",
       "4           4  Psoriasis  My nails have small dents or pits in them, and..."
      ]
     },
     "execution_count": 3,
     "metadata": {},
     "output_type": "execute_result"
    }
   ],
   "source": [
    "data.head()"
   ]
  },
  {
   "cell_type": "code",
   "execution_count": 4,
   "id": "89be1d7e",
   "metadata": {
    "execution": {
     "iopub.execute_input": "2023-07-08T14:35:02.268392Z",
     "iopub.status.busy": "2023-07-08T14:35:02.267900Z",
     "iopub.status.idle": "2023-07-08T14:35:02.283877Z",
     "shell.execute_reply": "2023-07-08T14:35:02.282899Z"
    },
    "papermill": {
     "duration": 0.042508,
     "end_time": "2023-07-08T14:35:02.287010",
     "exception": false,
     "start_time": "2023-07-08T14:35:02.244502",
     "status": "completed"
    },
    "tags": []
   },
   "outputs": [
    {
     "data": {
      "text/plain": [
       "array(['Psoriasis', 'Varicose Veins', 'Typhoid', 'Chicken pox',\n",
       "       'Impetigo', 'Dengue', 'Fungal infection', 'Common Cold',\n",
       "       'Pneumonia', 'Dimorphic Hemorrhoids', 'Arthritis', 'Acne',\n",
       "       'Bronchial Asthma', 'Hypertension', 'Migraine',\n",
       "       'Cervical spondylosis', 'Jaundice', 'Malaria',\n",
       "       'urinary tract infection', 'allergy',\n",
       "       'gastroesophageal reflux disease', 'drug reaction',\n",
       "       'peptic ulcer disease', 'diabetes'], dtype=object)"
      ]
     },
     "execution_count": 4,
     "metadata": {},
     "output_type": "execute_result"
    }
   ],
   "source": [
    "data[\"label\"].unique()"
   ]
  },
  {
   "cell_type": "code",
   "execution_count": 5,
   "id": "80008887",
   "metadata": {
    "execution": {
     "iopub.execute_input": "2023-07-08T14:35:02.334252Z",
     "iopub.status.busy": "2023-07-08T14:35:02.333817Z",
     "iopub.status.idle": "2023-07-08T14:35:02.348565Z",
     "shell.execute_reply": "2023-07-08T14:35:02.347608Z"
    },
    "papermill": {
     "duration": 0.04149,
     "end_time": "2023-07-08T14:35:02.351616",
     "exception": false,
     "start_time": "2023-07-08T14:35:02.310126",
     "status": "completed"
    },
    "tags": []
   },
   "outputs": [
    {
     "data": {
      "text/plain": [
       "Psoriasis                          50\n",
       "Varicose Veins                     50\n",
       "peptic ulcer disease               50\n",
       "drug reaction                      50\n",
       "gastroesophageal reflux disease    50\n",
       "allergy                            50\n",
       "urinary tract infection            50\n",
       "Malaria                            50\n",
       "Jaundice                           50\n",
       "Cervical spondylosis               50\n",
       "Migraine                           50\n",
       "Hypertension                       50\n",
       "Bronchial Asthma                   50\n",
       "Acne                               50\n",
       "Arthritis                          50\n",
       "Dimorphic Hemorrhoids              50\n",
       "Pneumonia                          50\n",
       "Common Cold                        50\n",
       "Fungal infection                   50\n",
       "Dengue                             50\n",
       "Impetigo                           50\n",
       "Chicken pox                        50\n",
       "Typhoid                            50\n",
       "diabetes                           50\n",
       "Name: label, dtype: int64"
      ]
     },
     "execution_count": 5,
     "metadata": {},
     "output_type": "execute_result"
    }
   ],
   "source": [
    "data['label'].value_counts()"
   ]
  },
  {
   "cell_type": "code",
   "execution_count": 6,
   "id": "e8d3007e",
   "metadata": {
    "execution": {
     "iopub.execute_input": "2023-07-08T14:35:02.398545Z",
     "iopub.status.busy": "2023-07-08T14:35:02.398069Z",
     "iopub.status.idle": "2023-07-08T14:35:02.409048Z",
     "shell.execute_reply": "2023-07-08T14:35:02.408046Z"
    },
    "papermill": {
     "duration": 0.038068,
     "end_time": "2023-07-08T14:35:02.412127",
     "exception": false,
     "start_time": "2023-07-08T14:35:02.374059",
     "status": "completed"
    },
    "tags": []
   },
   "outputs": [
    {
     "data": {
      "text/plain": [
       "24"
      ]
     },
     "execution_count": 6,
     "metadata": {},
     "output_type": "execute_result"
    }
   ],
   "source": [
    "num_of_classes = data['label'].nunique()\n",
    "num_of_classes"
   ]
  },
  {
   "cell_type": "code",
   "execution_count": 7,
   "id": "270ef794",
   "metadata": {
    "execution": {
     "iopub.execute_input": "2023-07-08T14:35:02.461086Z",
     "iopub.status.busy": "2023-07-08T14:35:02.460629Z",
     "iopub.status.idle": "2023-07-08T14:35:02.467789Z",
     "shell.execute_reply": "2023-07-08T14:35:02.466810Z"
    },
    "papermill": {
     "duration": 0.038379,
     "end_time": "2023-07-08T14:35:02.474228",
     "exception": false,
     "start_time": "2023-07-08T14:35:02.435849",
     "status": "completed"
    },
    "tags": []
   },
   "outputs": [
    {
     "data": {
      "text/plain": [
       "'I have been experiencing a skin rash on my arms, legs, and torso for the past few weeks. It is red, itchy, and covered in dry, scaly patches.'"
      ]
     },
     "execution_count": 7,
     "metadata": {},
     "output_type": "execute_result"
    }
   ],
   "source": [
    "data[\"text\"][0]"
   ]
  },
  {
   "cell_type": "code",
   "execution_count": 8,
   "id": "3b6ed6ea",
   "metadata": {
    "execution": {
     "iopub.execute_input": "2023-07-08T14:35:02.522114Z",
     "iopub.status.busy": "2023-07-08T14:35:02.521777Z",
     "iopub.status.idle": "2023-07-08T14:35:03.655371Z",
     "shell.execute_reply": "2023-07-08T14:35:03.654285Z"
    },
    "papermill": {
     "duration": 1.160602,
     "end_time": "2023-07-08T14:35:03.658255",
     "exception": false,
     "start_time": "2023-07-08T14:35:02.497653",
     "status": "completed"
    },
    "tags": []
   },
   "outputs": [],
   "source": [
    "import seaborn as sns\n",
    "import matplotlib.pyplot as plt"
   ]
  },
  {
   "cell_type": "code",
   "execution_count": 9,
   "id": "f875bb20",
   "metadata": {
    "execution": {
     "iopub.execute_input": "2023-07-08T14:35:03.696014Z",
     "iopub.status.busy": "2023-07-08T14:35:03.695617Z",
     "iopub.status.idle": "2023-07-08T14:35:04.012476Z",
     "shell.execute_reply": "2023-07-08T14:35:04.011313Z"
    },
    "papermill": {
     "duration": 0.339503,
     "end_time": "2023-07-08T14:35:04.015083",
     "exception": false,
     "start_time": "2023-07-08T14:35:03.675580",
     "status": "completed"
    },
    "tags": []
   },
   "outputs": [
    {
     "data": {
      "image/png": "[encoded data removed]",
      "text/plain": [
       "<Figure size 640x480 with 1 Axes>"
      ]
     },
     "metadata": {},
     "output_type": "display_data"
    }
   ],
   "source": [
    "text_length = data['text'].apply(lambda x: len(x.split(' ')))\n",
    "sns.histplot(text_length)\n",
    "plt.xlabel('Length of Text')\n",
    "plt.show()"
   ]
  },
  {
   "cell_type": "markdown",
   "id": "e6599bca",
   "metadata": {
    "papermill": {
     "duration": 0.016916,
     "end_time": "2023-07-08T14:35:04.049750",
     "exception": false,
     "start_time": "2023-07-08T14:35:04.032834",
     "status": "completed"
    },
    "tags": []
   },
   "source": [
    "# Data preprocessing"
   ]
  },
  {
   "cell_type": "code",
   "execution_count": 10,
   "id": "df80a71f",
   "metadata": {
    "execution": {
     "iopub.execute_input": "2023-07-08T14:35:04.085999Z",
     "iopub.status.busy": "2023-07-08T14:35:04.085018Z",
     "iopub.status.idle": "2023-07-08T14:35:04.090634Z",
     "shell.execute_reply": "2023-07-08T14:35:04.089552Z"
    },
    "papermill": {
     "duration": 0.026319,
     "end_time": "2023-07-08T14:35:04.092980",
     "exception": false,
     "start_time": "2023-07-08T14:35:04.066661",
     "status": "completed"
    },
    "tags": []
   },
   "outputs": [],
   "source": [
    "X = data['text']\n",
    "y = data['label']"
   ]
  },
  {
   "cell_type": "code",
   "execution_count": 11,
   "id": "f114bfb1",
   "metadata": {
    "execution": {
     "iopub.execute_input": "2023-07-08T14:35:04.129558Z",
     "iopub.status.busy": "2023-07-08T14:35:04.127852Z",
     "iopub.status.idle": "2023-07-08T14:35:04.337284Z",
     "shell.execute_reply": "2023-07-08T14:35:04.335993Z"
    },
    "papermill": {
     "duration": 0.230689,
     "end_time": "2023-07-08T14:35:04.340456",
     "exception": false,
     "start_time": "2023-07-08T14:35:04.109767",
     "status": "completed"
    },
    "tags": []
   },
   "outputs": [],
   "source": [
    "from sklearn.model_selection import train_test_split\n",
    "\n",
    "train_sentences, test_sentences, train_label, test_label = train_test_split(X, \n",
    "                                                                            y, \n",
    "                                                                            test_size=0.1, \n",
    "                                                                            random_state=42)"
   ]
  },
  {
   "cell_type": "code",
   "execution_count": 12,
   "id": "c07f359b",
   "metadata": {
    "execution": {
     "iopub.execute_input": "2023-07-08T14:35:04.376963Z",
     "iopub.status.busy": "2023-07-08T14:35:04.376613Z",
     "iopub.status.idle": "2023-07-08T14:35:04.384693Z",
     "shell.execute_reply": "2023-07-08T14:35:04.383626Z"
    },
    "papermill": {
     "duration": 0.029138,
     "end_time": "2023-07-08T14:35:04.387135",
     "exception": false,
     "start_time": "2023-07-08T14:35:04.357997",
     "status": "completed"
    },
    "tags": []
   },
   "outputs": [
    {
     "data": {
      "text/plain": [
       "533     I've been experiencing muscular weakness and s...\n",
       "903     I have been getting blood in my pee. Sometimes...\n",
       "1003    I have a persistent sour taste in my mouth, ev...\n",
       "1069    My monthly cycle has changed, and I've had an ...\n",
       "413     My fever is really high, and I'm having troubl...\n",
       "Name: text, dtype: object"
      ]
     },
     "execution_count": 12,
     "metadata": {},
     "output_type": "execute_result"
    }
   ],
   "source": [
    "train_sentences[:5]"
   ]
  },
  {
   "cell_type": "code",
   "execution_count": 13,
   "id": "75d487fd",
   "metadata": {
    "execution": {
     "iopub.execute_input": "2023-07-08T14:35:04.424063Z",
     "iopub.status.busy": "2023-07-08T14:35:04.423007Z",
     "iopub.status.idle": "2023-07-08T14:35:04.431884Z",
     "shell.execute_reply": "2023-07-08T14:35:04.430779Z"
    },
    "papermill": {
     "duration": 0.029667,
     "end_time": "2023-07-08T14:35:04.434227",
     "exception": false,
     "start_time": "2023-07-08T14:35:04.404560",
     "status": "completed"
    },
    "tags": []
   },
   "outputs": [
    {
     "data": {
      "text/plain": [
       "533                           Arthritis\n",
       "903             urinary tract infection\n",
       "1003    gastroesophageal reflux disease\n",
       "1069                      drug reaction\n",
       "413                           Pneumonia\n",
       "Name: label, dtype: object"
      ]
     },
     "execution_count": 13,
     "metadata": {},
     "output_type": "execute_result"
    }
   ],
   "source": [
    "train_label[:5]"
   ]
  },
  {
   "cell_type": "code",
   "execution_count": 14,
   "id": "f13cb800",
   "metadata": {
    "execution": {
     "iopub.execute_input": "2023-07-08T14:35:04.470772Z",
     "iopub.status.busy": "2023-07-08T14:35:04.469905Z",
     "iopub.status.idle": "2023-07-08T14:35:04.476680Z",
     "shell.execute_reply": "2023-07-08T14:35:04.475608Z"
    },
    "papermill": {
     "duration": 0.027339,
     "end_time": "2023-07-08T14:35:04.479199",
     "exception": false,
     "start_time": "2023-07-08T14:35:04.451860",
     "status": "completed"
    },
    "tags": []
   },
   "outputs": [],
   "source": [
    "from sklearn.preprocessing import LabelEncoder\n",
    "label_encoder = LabelEncoder()\n",
    "train_labels_encoded = label_encoder.fit_transform(train_label)\n",
    "test_labels_encoded = label_encoder.fit_transform(test_label)"
   ]
  },
  {
   "cell_type": "code",
   "execution_count": 15,
   "id": "47619a2d",
   "metadata": {
    "execution": {
     "iopub.execute_input": "2023-07-08T14:35:04.514581Z",
     "iopub.status.busy": "2023-07-08T14:35:04.513629Z",
     "iopub.status.idle": "2023-07-08T14:35:04.520738Z",
     "shell.execute_reply": "2023-07-08T14:35:04.519683Z"
    },
    "papermill": {
     "duration": 0.027105,
     "end_time": "2023-07-08T14:35:04.523061",
     "exception": false,
     "start_time": "2023-07-08T14:35:04.495956",
     "status": "completed"
    },
    "tags": []
   },
   "outputs": [
    {
     "data": {
      "text/plain": [
       "array([ 1, 23, 21, 20, 14])"
      ]
     },
     "execution_count": 15,
     "metadata": {},
     "output_type": "execute_result"
    }
   ],
   "source": [
    "train_labels_encoded[:5]"
   ]
  },
  {
   "cell_type": "code",
   "execution_count": 16,
   "id": "ef6be5a6",
   "metadata": {
    "execution": {
     "iopub.execute_input": "2023-07-08T14:35:04.558833Z",
     "iopub.status.busy": "2023-07-08T14:35:04.558174Z",
     "iopub.status.idle": "2023-07-08T14:35:04.565336Z",
     "shell.execute_reply": "2023-07-08T14:35:04.564248Z"
    },
    "papermill": {
     "duration": 0.027532,
     "end_time": "2023-07-08T14:35:04.567572",
     "exception": false,
     "start_time": "2023-07-08T14:35:04.540040",
     "status": "completed"
    },
    "tags": []
   },
   "outputs": [
    {
     "data": {
      "text/plain": [
       "array([19, 12, 16, 14, 17])"
      ]
     },
     "execution_count": 16,
     "metadata": {},
     "output_type": "execute_result"
    }
   ],
   "source": [
    "test_labels_encoded[:5]"
   ]
  },
  {
   "cell_type": "code",
   "execution_count": 17,
   "id": "d7033b57",
   "metadata": {
    "execution": {
     "iopub.execute_input": "2023-07-08T14:35:04.604608Z",
     "iopub.status.busy": "2023-07-08T14:35:04.604243Z",
     "iopub.status.idle": "2023-07-08T14:35:04.611295Z",
     "shell.execute_reply": "2023-07-08T14:35:04.610234Z"
    },
    "papermill": {
     "duration": 0.028784,
     "end_time": "2023-07-08T14:35:04.613643",
     "exception": false,
     "start_time": "2023-07-08T14:35:04.584859",
     "status": "completed"
    },
    "tags": []
   },
   "outputs": [
    {
     "data": {
      "text/plain": [
       "((1080,), (1080,))"
      ]
     },
     "execution_count": 17,
     "metadata": {},
     "output_type": "execute_result"
    }
   ],
   "source": [
    "train_sentences.shape, train_labels_encoded.shape"
   ]
  },
  {
   "cell_type": "code",
   "execution_count": 18,
   "id": "747da0b6",
   "metadata": {
    "execution": {
     "iopub.execute_input": "2023-07-08T14:35:04.650482Z",
     "iopub.status.busy": "2023-07-08T14:35:04.649855Z",
     "iopub.status.idle": "2023-07-08T14:35:04.659962Z",
     "shell.execute_reply": "2023-07-08T14:35:04.658871Z"
    },
    "papermill": {
     "duration": 0.030307,
     "end_time": "2023-07-08T14:35:04.662192",
     "exception": false,
     "start_time": "2023-07-08T14:35:04.631885",
     "status": "completed"
    },
    "tags": []
   },
   "outputs": [
    {
     "data": {
      "text/plain": [
       "[27, 24, 28, 21, 35, 23, 47, 21, 27, 40]"
      ]
     },
     "execution_count": 18,
     "metadata": {},
     "output_type": "execute_result"
    }
   ],
   "source": [
    "sent_lens = [len(sentence.split()) for sentence in train_sentences]\n",
    "sent_lens[:10]"
   ]
  },
  {
   "cell_type": "code",
   "execution_count": 19,
   "id": "63516fab",
   "metadata": {
    "execution": {
     "iopub.execute_input": "2023-07-08T14:35:04.700890Z",
     "iopub.status.busy": "2023-07-08T14:35:04.700543Z",
     "iopub.status.idle": "2023-07-08T14:35:04.707977Z",
     "shell.execute_reply": "2023-07-08T14:35:04.706840Z"
    },
    "papermill": {
     "duration": 0.030214,
     "end_time": "2023-07-08T14:35:04.710379",
     "exception": false,
     "start_time": "2023-07-08T14:35:04.680165",
     "status": "completed"
    },
    "tags": []
   },
   "outputs": [
    {
     "data": {
      "text/plain": [
       "30.677777777777777"
      ]
     },
     "execution_count": 19,
     "metadata": {},
     "output_type": "execute_result"
    }
   ],
   "source": [
    "import numpy as np\n",
    "avg_len = np.mean(sent_lens)\n",
    "avg_len"
   ]
  },
  {
   "cell_type": "code",
   "execution_count": 20,
   "id": "9cb9aa4c",
   "metadata": {
    "execution": {
     "iopub.execute_input": "2023-07-08T14:35:04.749077Z",
     "iopub.status.busy": "2023-07-08T14:35:04.748062Z",
     "iopub.status.idle": "2023-07-08T14:35:04.755320Z",
     "shell.execute_reply": "2023-07-08T14:35:04.754287Z"
    },
    "papermill": {
     "duration": 0.027762,
     "end_time": "2023-07-08T14:35:04.757626",
     "exception": false,
     "start_time": "2023-07-08T14:35:04.729864",
     "status": "completed"
    },
    "tags": []
   },
   "outputs": [
    {
     "data": {
      "text/plain": [
       "(12, 55)"
      ]
     },
     "execution_count": 20,
     "metadata": {},
     "output_type": "execute_result"
    }
   ],
   "source": [
    "min(sent_lens), max(sent_lens)"
   ]
  },
  {
   "cell_type": "code",
   "execution_count": 21,
   "id": "4868e2b9",
   "metadata": {
    "execution": {
     "iopub.execute_input": "2023-07-08T14:35:04.795427Z",
     "iopub.status.busy": "2023-07-08T14:35:04.794580Z",
     "iopub.status.idle": "2023-07-08T14:35:04.802549Z",
     "shell.execute_reply": "2023-07-08T14:35:04.801347Z"
    },
    "papermill": {
     "duration": 0.02904,
     "end_time": "2023-07-08T14:35:04.804954",
     "exception": false,
     "start_time": "2023-07-08T14:35:04.775914",
     "status": "completed"
    },
    "tags": []
   },
   "outputs": [
    {
     "data": {
      "text/plain": [
       "43.0"
      ]
     },
     "execution_count": 21,
     "metadata": {},
     "output_type": "execute_result"
    }
   ],
   "source": [
    "out_len_seq = np.percentile(sent_lens, 95)\n",
    "out_len_seq"
   ]
  },
  {
   "cell_type": "markdown",
   "id": "ab23f19d",
   "metadata": {
    "papermill": {
     "duration": 0.017914,
     "end_time": "2023-07-08T14:35:04.843878",
     "exception": false,
     "start_time": "2023-07-08T14:35:04.825964",
     "status": "completed"
    },
    "tags": []
   },
   "source": [
    "# Text vectorization (tokenization)"
   ]
  },
  {
   "cell_type": "code",
   "execution_count": 22,
   "id": "8a4ff353",
   "metadata": {
    "execution": {
     "iopub.execute_input": "2023-07-08T14:35:04.880496Z",
     "iopub.status.busy": "2023-07-08T14:35:04.880168Z",
     "iopub.status.idle": "2023-07-08T14:35:13.307818Z",
     "shell.execute_reply": "2023-07-08T14:35:13.306457Z"
    },
    "papermill": {
     "duration": 8.449414,
     "end_time": "2023-07-08T14:35:13.310918",
     "exception": false,
     "start_time": "2023-07-08T14:35:04.861504",
     "status": "completed"
    },
    "tags": []
   },
   "outputs": [],
   "source": [
    "from tensorflow.keras.layers.experimental.preprocessing import TextVectorization"
   ]
  },
  {
   "cell_type": "code",
   "execution_count": 23,
   "id": "13b6cbd1",
   "metadata": {
    "execution": {
     "iopub.execute_input": "2023-07-08T14:35:13.348738Z",
     "iopub.status.busy": "2023-07-08T14:35:13.347888Z",
     "iopub.status.idle": "2023-07-08T14:35:17.204903Z",
     "shell.execute_reply": "2023-07-08T14:35:17.203746Z"
    },
    "papermill": {
     "duration": 3.879264,
     "end_time": "2023-07-08T14:35:17.208153",
     "exception": false,
     "start_time": "2023-07-08T14:35:13.328889",
     "status": "completed"
    },
    "tags": []
   },
   "outputs": [],
   "source": [
    "text_vectorizer = TextVectorization(\n",
    "    max_tokens=None,\n",
    "    standardize='lower_and_strip_punctuation',\n",
    "    split='whitespace',\n",
    "    ngrams=None,\n",
    "    output_mode='int',\n",
    "    output_sequence_length=None)"
   ]
  },
  {
   "cell_type": "code",
   "execution_count": 24,
   "id": "924d8cf4",
   "metadata": {
    "execution": {
     "iopub.execute_input": "2023-07-08T14:35:17.246645Z",
     "iopub.status.busy": "2023-07-08T14:35:17.245582Z",
     "iopub.status.idle": "2023-07-08T14:35:17.256873Z",
     "shell.execute_reply": "2023-07-08T14:35:17.255835Z"
    },
    "papermill": {
     "duration": 0.032822,
     "end_time": "2023-07-08T14:35:17.259281",
     "exception": false,
     "start_time": "2023-07-08T14:35:17.226459",
     "status": "completed"
    },
    "tags": []
   },
   "outputs": [],
   "source": [
    "max_vocab_length = 10000\n",
    "max_length = 45\n",
    "text_vectorizer = TextVectorization(\n",
    "    max_tokens=max_vocab_length,\n",
    "    output_mode='int',\n",
    "    output_sequence_length=max_length)"
   ]
  },
  {
   "cell_type": "code",
   "execution_count": 25,
   "id": "fb5f07a5",
   "metadata": {
    "execution": {
     "iopub.execute_input": "2023-07-08T14:35:17.296721Z",
     "iopub.status.busy": "2023-07-08T14:35:17.296154Z",
     "iopub.status.idle": "2023-07-08T14:35:17.676918Z",
     "shell.execute_reply": "2023-07-08T14:35:17.675734Z"
    },
    "papermill": {
     "duration": 0.402897,
     "end_time": "2023-07-08T14:35:17.679885",
     "exception": false,
     "start_time": "2023-07-08T14:35:17.276988",
     "status": "completed"
    },
    "tags": []
   },
   "outputs": [],
   "source": [
    "text_vectorizer.adapt(train_sentences)"
   ]
  },
  {
   "cell_type": "code",
   "execution_count": 26,
   "id": "c419ca55",
   "metadata": {
    "execution": {
     "iopub.execute_input": "2023-07-08T14:35:17.719764Z",
     "iopub.status.busy": "2023-07-08T14:35:17.718824Z",
     "iopub.status.idle": "2023-07-08T14:35:17.802775Z",
     "shell.execute_reply": "2023-07-08T14:35:17.800696Z"
    },
    "papermill": {
     "duration": 0.105688,
     "end_time": "2023-07-08T14:35:17.805231",
     "exception": false,
     "start_time": "2023-07-08T14:35:17.699543",
     "status": "completed"
    },
    "tags": []
   },
   "outputs": [
    {
     "name": "stdout",
     "output_type": "stream",
     "text": [
      "Doctor, I have these red rashes that keep popping up and my skin is continuously itching. In addition, I've observed some odd color-different spots on my skin, as well as some little nodules on my skin that appear to be expanding.\n",
      "tf.Tensor(\n",
      "[[ 485    4    7   97   52   86   27  410 1245   48    2    3   16   12\n",
      "   748   57   13   99    8  405   54  520 1051  119   21    3   16   44\n",
      "   107   44   54  166  625   21    3   16   27  493    9  189 1400    0\n",
      "     0    0    0]], shape=(1, 45), dtype=int64)\n"
     ]
    }
   ],
   "source": [
    "import random\n",
    "random_sentence = random.choice(train_sentences)\n",
    "print(random_sentence)\n",
    "print(text_vectorizer([random_sentence]))"
   ]
  },
  {
   "cell_type": "markdown",
   "id": "a22ac41f",
   "metadata": {
    "papermill": {
     "duration": 0.017607,
     "end_time": "2023-07-08T14:35:17.840957",
     "exception": false,
     "start_time": "2023-07-08T14:35:17.823350",
     "status": "completed"
    },
    "tags": []
   },
   "source": [
    "# Embedding"
   ]
  },
  {
   "cell_type": "code",
   "execution_count": 27,
   "id": "b4a85a11",
   "metadata": {
    "execution": {
     "iopub.execute_input": "2023-07-08T14:35:17.881317Z",
     "iopub.status.busy": "2023-07-08T14:35:17.880996Z",
     "iopub.status.idle": "2023-07-08T14:35:17.892005Z",
     "shell.execute_reply": "2023-07-08T14:35:17.890861Z"
    },
    "papermill": {
     "duration": 0.035127,
     "end_time": "2023-07-08T14:35:17.894387",
     "exception": false,
     "start_time": "2023-07-08T14:35:17.859260",
     "status": "completed"
    },
    "tags": []
   },
   "outputs": [
    {
     "data": {
      "text/plain": [
       "<keras.layers.core.embedding.Embedding at 0x78b9cc568a10>"
      ]
     },
     "execution_count": 27,
     "metadata": {},
     "output_type": "execute_result"
    }
   ],
   "source": [
    "from tensorflow.keras import layers\n",
    "embedding = layers.Embedding(input_dim=max_vocab_length, \n",
    "                             output_dim=128, \n",
    "                             input_length=max_length,\n",
    "                             embeddings_initializer='uniform')\n",
    "embedding"
   ]
  },
  {
   "cell_type": "code",
   "execution_count": 28,
   "id": "45bfb120",
   "metadata": {
    "execution": {
     "iopub.execute_input": "2023-07-08T14:35:17.933344Z",
     "iopub.status.busy": "2023-07-08T14:35:17.932677Z",
     "iopub.status.idle": "2023-07-08T14:35:17.981157Z",
     "shell.execute_reply": "2023-07-08T14:35:17.979329Z"
    },
    "papermill": {
     "duration": 0.071218,
     "end_time": "2023-07-08T14:35:17.983863",
     "exception": false,
     "start_time": "2023-07-08T14:35:17.912645",
     "status": "completed"
    },
    "tags": []
   },
   "outputs": [
    {
     "name": "stdout",
     "output_type": "stream",
     "text": [
      "tf.Tensor(\n",
      "[[[ 0.004161    0.03068556 -0.028077   ...  0.02218545  0.03770125\n",
      "   -0.04679653]\n",
      "  [ 0.03833604  0.027257    0.03239336 ...  0.04472469 -0.00678495\n",
      "    0.02348628]\n",
      "  [-0.01872725  0.01334157 -0.03425949 ...  0.00916827 -0.0480854\n",
      "    0.00197337]\n",
      "  ...\n",
      "  [ 0.03202795  0.00684785 -0.00436336 ...  0.04842389  0.01281493\n",
      "    0.03413877]\n",
      "  [ 0.03202795  0.00684785 -0.00436336 ...  0.04842389  0.01281493\n",
      "    0.03413877]\n",
      "  [ 0.03202795  0.00684785 -0.00436336 ...  0.04842389  0.01281493\n",
      "    0.03413877]]], shape=(1, 45, 128), dtype=float32)\n"
     ]
    }
   ],
   "source": [
    "print(embedding(text_vectorizer([random_sentence])))"
   ]
  },
  {
   "cell_type": "markdown",
   "id": "47058ff9",
   "metadata": {
    "papermill": {
     "duration": 0.01764,
     "end_time": "2023-07-08T14:35:18.020109",
     "exception": false,
     "start_time": "2023-07-08T14:35:18.002469",
     "status": "completed"
    },
    "tags": []
   },
   "source": [
    "# Naive bayes"
   ]
  },
  {
   "cell_type": "code",
   "execution_count": 29,
   "id": "7c8a2e62",
   "metadata": {
    "execution": {
     "iopub.execute_input": "2023-07-08T14:35:18.057615Z",
     "iopub.status.busy": "2023-07-08T14:35:18.057276Z",
     "iopub.status.idle": "2023-07-08T14:35:18.088264Z",
     "shell.execute_reply": "2023-07-08T14:35:18.087141Z"
    },
    "papermill": {
     "duration": 0.052655,
     "end_time": "2023-07-08T14:35:18.090930",
     "exception": false,
     "start_time": "2023-07-08T14:35:18.038275",
     "status": "completed"
    },
    "tags": []
   },
   "outputs": [],
   "source": [
    "from sklearn.feature_extraction.text import TfidfVectorizer\n",
    "from sklearn.naive_bayes import MultinomialNB\n",
    "from sklearn.pipeline import Pipeline"
   ]
  },
  {
   "cell_type": "code",
   "execution_count": 30,
   "id": "8ca38b0c",
   "metadata": {
    "execution": {
     "iopub.execute_input": "2023-07-08T14:35:18.129918Z",
     "iopub.status.busy": "2023-07-08T14:35:18.129578Z",
     "iopub.status.idle": "2023-07-08T14:35:18.199641Z",
     "shell.execute_reply": "2023-07-08T14:35:18.198431Z"
    },
    "papermill": {
     "duration": 0.09207,
     "end_time": "2023-07-08T14:35:18.201888",
     "exception": false,
     "start_time": "2023-07-08T14:35:18.109818",
     "status": "completed"
    },
    "tags": []
   },
   "outputs": [
    {
     "data": {
      "text/plain": [
       "Pipeline(steps=[('tfidf', TfidfVectorizer()), ('clf', MultinomialNB())])"
      ]
     },
     "execution_count": 30,
     "metadata": {},
     "output_type": "execute_result"
    }
   ],
   "source": [
    "model_0 = Pipeline([\n",
    "        (\"tfidf\", TfidfVectorizer()),\n",
    "        (\"clf\", MultinomialNB()),\n",
    "     ])\n",
    "\n",
    "model_0.fit(train_sentences, train_label)"
   ]
  },
  {
   "cell_type": "code",
   "execution_count": 31,
   "id": "211df336",
   "metadata": {
    "execution": {
     "iopub.execute_input": "2023-07-08T14:35:18.240602Z",
     "iopub.status.busy": "2023-07-08T14:35:18.238995Z",
     "iopub.status.idle": "2023-07-08T14:35:18.251227Z",
     "shell.execute_reply": "2023-07-08T14:35:18.250264Z"
    },
    "papermill": {
     "duration": 0.033577,
     "end_time": "2023-07-08T14:35:18.253585",
     "exception": false,
     "start_time": "2023-07-08T14:35:18.220008",
     "status": "completed"
    },
    "tags": []
   },
   "outputs": [],
   "source": [
    "baseline_score = model_0.score(test_sentences, test_label)"
   ]
  },
  {
   "cell_type": "code",
   "execution_count": 32,
   "id": "522f0211",
   "metadata": {
    "execution": {
     "iopub.execute_input": "2023-07-08T14:35:18.291444Z",
     "iopub.status.busy": "2023-07-08T14:35:18.291112Z",
     "iopub.status.idle": "2023-07-08T14:35:18.296612Z",
     "shell.execute_reply": "2023-07-08T14:35:18.295423Z"
    },
    "papermill": {
     "duration": 0.029093,
     "end_time": "2023-07-08T14:35:18.300785",
     "exception": false,
     "start_time": "2023-07-08T14:35:18.271692",
     "status": "completed"
    },
    "tags": []
   },
   "outputs": [
    {
     "name": "stdout",
     "output_type": "stream",
     "text": [
      "93.33333333333333\n"
     ]
    }
   ],
   "source": [
    "print(baseline_score*100)"
   ]
  },
  {
   "cell_type": "code",
   "execution_count": null,
   "id": "2f681d2d",
   "metadata": {
    "papermill": {
     "duration": 0.018338,
     "end_time": "2023-07-08T14:35:18.337270",
     "exception": false,
     "start_time": "2023-07-08T14:35:18.318932",
     "status": "completed"
    },
    "tags": []
   },
   "outputs": [],
   "source": []
  },
  {
   "cell_type": "markdown",
   "id": "c0acba48",
   "metadata": {
    "papermill": {
     "duration": 0.018223,
     "end_time": "2023-07-08T14:35:18.374733",
     "exception": false,
     "start_time": "2023-07-08T14:35:18.356510",
     "status": "completed"
    },
    "tags": []
   },
   "source": [
    "# Conv1D model"
   ]
  },
  {
   "cell_type": "code",
   "execution_count": 33,
   "id": "557df732",
   "metadata": {
    "execution": {
     "iopub.execute_input": "2023-07-08T14:35:18.413255Z",
     "iopub.status.busy": "2023-07-08T14:35:18.412951Z",
     "iopub.status.idle": "2023-07-08T14:35:18.480243Z",
     "shell.execute_reply": "2023-07-08T14:35:18.479167Z"
    },
    "papermill": {
     "duration": 0.08887,
     "end_time": "2023-07-08T14:35:18.482614",
     "exception": false,
     "start_time": "2023-07-08T14:35:18.393744",
     "status": "completed"
    },
    "tags": []
   },
   "outputs": [],
   "source": [
    "import tensorflow as tf\n",
    "from tensorflow.keras import layers\n",
    "\n",
    "inputs = layers.Input(shape=(1,), dtype=tf.string)\n",
    "x = text_vectorizer(inputs)\n",
    "x = embedding(x)\n",
    "x = layers.GlobalAveragePooling1D()(x)\n",
    "outputs = layers.Dense(num_of_classes, activation = \"sigmoid\")(x)\n",
    "model_1 = tf.keras.Model(inputs, outputs, name=\"dense_model\")"
   ]
  },
  {
   "cell_type": "code",
   "execution_count": 34,
   "id": "952acc78",
   "metadata": {
    "execution": {
     "iopub.execute_input": "2023-07-08T14:35:18.521446Z",
     "iopub.status.busy": "2023-07-08T14:35:18.520582Z",
     "iopub.status.idle": "2023-07-08T14:35:18.537815Z",
     "shell.execute_reply": "2023-07-08T14:35:18.536836Z"
    },
    "papermill": {
     "duration": 0.039215,
     "end_time": "2023-07-08T14:35:18.540165",
     "exception": false,
     "start_time": "2023-07-08T14:35:18.500950",
     "status": "completed"
    },
    "tags": []
   },
   "outputs": [],
   "source": [
    "model_1.compile(loss=tf.keras.losses.CategoricalCrossentropy(),optimizer = tf.keras.optimizers.Adam(), metrics=[\"accuracy\"])"
   ]
  },
  {
   "cell_type": "code",
   "execution_count": 35,
   "id": "a14da174",
   "metadata": {
    "execution": {
     "iopub.execute_input": "2023-07-08T14:35:18.578384Z",
     "iopub.status.busy": "2023-07-08T14:35:18.578048Z",
     "iopub.status.idle": "2023-07-08T14:35:18.585947Z",
     "shell.execute_reply": "2023-07-08T14:35:18.584771Z"
    },
    "papermill": {
     "duration": 0.03075,
     "end_time": "2023-07-08T14:35:18.588810",
     "exception": false,
     "start_time": "2023-07-08T14:35:18.558060",
     "status": "completed"
    },
    "tags": []
   },
   "outputs": [
    {
     "data": {
      "text/plain": [
       "((1080,), (1080,))"
      ]
     },
     "execution_count": 35,
     "metadata": {},
     "output_type": "execute_result"
    }
   ],
   "source": [
    "train_sentences.shape, train_label.shape"
   ]
  },
  {
   "cell_type": "code",
   "execution_count": 36,
   "id": "790bdc8a",
   "metadata": {
    "execution": {
     "iopub.execute_input": "2023-07-08T14:35:18.628892Z",
     "iopub.status.busy": "2023-07-08T14:35:18.628517Z",
     "iopub.status.idle": "2023-07-08T14:35:18.642496Z",
     "shell.execute_reply": "2023-07-08T14:35:18.641267Z"
    },
    "papermill": {
     "duration": 0.037545,
     "end_time": "2023-07-08T14:35:18.645266",
     "exception": false,
     "start_time": "2023-07-08T14:35:18.607721",
     "status": "completed"
    },
    "tags": []
   },
   "outputs": [
    {
     "data": {
      "text/plain": [
       "array([[0., 1., 0., 0., 0., 0., 0., 0., 0., 0., 0., 0., 0., 0., 0., 0.,\n",
       "        0., 0., 0., 0., 0., 0., 0., 0.],\n",
       "       [0., 0., 0., 0., 0., 0., 0., 0., 0., 0., 0., 0., 0., 0., 0., 0.,\n",
       "        0., 0., 0., 0., 0., 0., 0., 1.],\n",
       "       [0., 0., 0., 0., 0., 0., 0., 0., 0., 0., 0., 0., 0., 0., 0., 0.,\n",
       "        0., 0., 0., 0., 0., 1., 0., 0.],\n",
       "       [0., 0., 0., 0., 0., 0., 0., 0., 0., 0., 0., 0., 0., 0., 0., 0.,\n",
       "        0., 0., 0., 0., 1., 0., 0., 0.],\n",
       "       [0., 0., 0., 0., 0., 0., 0., 0., 0., 0., 0., 0., 0., 0., 1., 0.,\n",
       "        0., 0., 0., 0., 0., 0., 0., 0.]])"
      ]
     },
     "execution_count": 36,
     "metadata": {},
     "output_type": "execute_result"
    }
   ],
   "source": [
    "from sklearn.preprocessing import OneHotEncoder\n",
    "one_hot_encoder = OneHotEncoder(sparse=False)\n",
    "train_labels_one_hot = one_hot_encoder.fit_transform(train_label.to_numpy().reshape(-1, 1))\n",
    "test_labels_one_hot = one_hot_encoder.fit_transform(test_label.to_numpy().reshape(-1, 1))\n",
    "train_labels_one_hot[:5]"
   ]
  },
  {
   "cell_type": "code",
   "execution_count": 37,
   "id": "7185e3e9",
   "metadata": {
    "execution": {
     "iopub.execute_input": "2023-07-08T14:35:18.686565Z",
     "iopub.status.busy": "2023-07-08T14:35:18.686187Z",
     "iopub.status.idle": "2023-07-08T14:35:18.695254Z",
     "shell.execute_reply": "2023-07-08T14:35:18.694021Z"
    },
    "papermill": {
     "duration": 0.033287,
     "end_time": "2023-07-08T14:35:18.697950",
     "exception": false,
     "start_time": "2023-07-08T14:35:18.664663",
     "status": "completed"
    },
    "tags": []
   },
   "outputs": [
    {
     "data": {
      "text/plain": [
       "(120, 24)"
      ]
     },
     "execution_count": 37,
     "metadata": {},
     "output_type": "execute_result"
    }
   ],
   "source": [
    "test_labels_one_hot.shape"
   ]
  },
  {
   "cell_type": "code",
   "execution_count": 38,
   "id": "e9abd67e",
   "metadata": {
    "execution": {
     "iopub.execute_input": "2023-07-08T14:35:18.738290Z",
     "iopub.status.busy": "2023-07-08T14:35:18.737997Z",
     "iopub.status.idle": "2023-07-08T14:35:18.745150Z",
     "shell.execute_reply": "2023-07-08T14:35:18.744005Z"
    },
    "papermill": {
     "duration": 0.03134,
     "end_time": "2023-07-08T14:35:18.748975",
     "exception": false,
     "start_time": "2023-07-08T14:35:18.717635",
     "status": "completed"
    },
    "tags": []
   },
   "outputs": [
    {
     "data": {
      "text/plain": [
       "(pandas.core.series.Series, numpy.ndarray, numpy.ndarray)"
      ]
     },
     "execution_count": 38,
     "metadata": {},
     "output_type": "execute_result"
    }
   ],
   "source": [
    "type(train_sentences), type(np.array(train_sentences)), type(train_labels_one_hot)"
   ]
  },
  {
   "cell_type": "code",
   "execution_count": 39,
   "id": "40d84357",
   "metadata": {
    "execution": {
     "iopub.execute_input": "2023-07-08T14:35:18.787178Z",
     "iopub.status.busy": "2023-07-08T14:35:18.786842Z",
     "iopub.status.idle": "2023-07-08T14:35:18.797096Z",
     "shell.execute_reply": "2023-07-08T14:35:18.796082Z"
    },
    "papermill": {
     "duration": 0.032051,
     "end_time": "2023-07-08T14:35:18.799497",
     "exception": false,
     "start_time": "2023-07-08T14:35:18.767446",
     "status": "completed"
    },
    "tags": []
   },
   "outputs": [
    {
     "data": {
      "text/plain": [
       "array([[0., 1., 0., 0., 0., 0., 0., 0., 0., 0., 0., 0., 0., 0., 0., 0.,\n",
       "        0., 0., 0., 0., 0., 0., 0., 0.],\n",
       "       [0., 0., 0., 0., 0., 0., 0., 0., 0., 0., 0., 0., 0., 0., 0., 0.,\n",
       "        0., 0., 0., 0., 0., 0., 0., 1.],\n",
       "       [0., 0., 0., 0., 0., 0., 0., 0., 0., 0., 0., 0., 0., 0., 0., 0.,\n",
       "        0., 0., 0., 0., 0., 1., 0., 0.],\n",
       "       [0., 0., 0., 0., 0., 0., 0., 0., 0., 0., 0., 0., 0., 0., 0., 0.,\n",
       "        0., 0., 0., 0., 1., 0., 0., 0.],\n",
       "       [0., 0., 0., 0., 0., 0., 0., 0., 0., 0., 0., 0., 0., 0., 1., 0.,\n",
       "        0., 0., 0., 0., 0., 0., 0., 0.]])"
      ]
     },
     "execution_count": 39,
     "metadata": {},
     "output_type": "execute_result"
    }
   ],
   "source": [
    "train_labels_one_hot[:5]"
   ]
  },
  {
   "cell_type": "code",
   "execution_count": 40,
   "id": "5d5ded83",
   "metadata": {
    "execution": {
     "iopub.execute_input": "2023-07-08T14:35:18.838683Z",
     "iopub.status.busy": "2023-07-08T14:35:18.838340Z",
     "iopub.status.idle": "2023-07-08T14:36:41.547454Z",
     "shell.execute_reply": "2023-07-08T14:36:41.546157Z"
    },
    "papermill": {
     "duration": 82.731998,
     "end_time": "2023-07-08T14:36:41.550440",
     "exception": false,
     "start_time": "2023-07-08T14:35:18.818442",
     "status": "completed"
    },
    "tags": []
   },
   "outputs": [
    {
     "name": "stdout",
     "output_type": "stream",
     "text": [
      "Epoch 1/100\n",
      "34/34 [==============================] - 10s 173ms/step - loss: 3.1562 - accuracy: 0.2926 - val_loss: 3.1310 - val_accuracy: 0.5667\n",
      "Epoch 2/100\n",
      "34/34 [==============================] - 3s 80ms/step - loss: 3.0925 - accuracy: 0.6972 - val_loss: 3.0638 - val_accuracy: 0.6583\n",
      "Epoch 3/100\n",
      "34/34 [==============================] - 2s 43ms/step - loss: 2.9998 - accuracy: 0.7889 - val_loss: 2.9602 - val_accuracy: 0.6667\n",
      "Epoch 4/100\n",
      "34/34 [==============================] - 2s 38ms/step - loss: 2.8653 - accuracy: 0.8472 - val_loss: 2.8159 - val_accuracy: 0.7167\n",
      "Epoch 5/100\n",
      "34/34 [==============================] - 2s 42ms/step - loss: 2.6872 - accuracy: 0.8491 - val_loss: 2.6342 - val_accuracy: 0.7167\n",
      "Epoch 6/100\n",
      "34/34 [==============================] - 1s 29ms/step - loss: 2.4731 - accuracy: 0.8815 - val_loss: 2.4199 - val_accuracy: 0.7417\n",
      "Epoch 7/100\n",
      "34/34 [==============================] - 1s 23ms/step - loss: 2.2376 - accuracy: 0.8833 - val_loss: 2.2012 - val_accuracy: 0.7500\n",
      "Epoch 8/100\n",
      "34/34 [==============================] - 1s 23ms/step - loss: 1.9976 - accuracy: 0.8981 - val_loss: 1.9867 - val_accuracy: 0.7750\n",
      "Epoch 9/100\n",
      "34/34 [==============================] - 1s 17ms/step - loss: 1.7697 - accuracy: 0.9269 - val_loss: 1.7908 - val_accuracy: 0.8000\n",
      "Epoch 10/100\n",
      "34/34 [==============================] - 0s 11ms/step - loss: 1.5606 - accuracy: 0.9167 - val_loss: 1.6121 - val_accuracy: 0.8000\n",
      "Epoch 11/100\n",
      "34/34 [==============================] - 0s 12ms/step - loss: 1.3722 - accuracy: 0.9380 - val_loss: 1.4543 - val_accuracy: 0.8167\n",
      "Epoch 12/100\n",
      "34/34 [==============================] - 0s 11ms/step - loss: 1.2077 - accuracy: 0.9583 - val_loss: 1.3123 - val_accuracy: 0.8750\n",
      "Epoch 13/100\n",
      "34/34 [==============================] - 1s 22ms/step - loss: 1.0620 - accuracy: 0.9667 - val_loss: 1.1905 - val_accuracy: 0.8750\n",
      "Epoch 14/100\n",
      "34/34 [==============================] - 1s 17ms/step - loss: 0.9359 - accuracy: 0.9741 - val_loss: 1.0799 - val_accuracy: 0.8833\n",
      "Epoch 15/100\n",
      "34/34 [==============================] - 0s 11ms/step - loss: 0.8258 - accuracy: 0.9778 - val_loss: 0.9879 - val_accuracy: 0.8917\n",
      "Epoch 16/100\n",
      "34/34 [==============================] - 0s 11ms/step - loss: 0.7301 - accuracy: 0.9815 - val_loss: 0.9021 - val_accuracy: 0.9000\n",
      "Epoch 17/100\n",
      "34/34 [==============================] - 1s 17ms/step - loss: 0.6468 - accuracy: 0.9843 - val_loss: 0.8300 - val_accuracy: 0.9083\n",
      "Epoch 18/100\n",
      "34/34 [==============================] - 0s 5ms/step - loss: 0.5742 - accuracy: 0.9870 - val_loss: 0.7696 - val_accuracy: 0.9083\n",
      "Epoch 19/100\n",
      "34/34 [==============================] - 0s 11ms/step - loss: 0.5112 - accuracy: 0.9889 - val_loss: 0.7112 - val_accuracy: 0.9167\n",
      "Epoch 20/100\n",
      "34/34 [==============================] - 0s 11ms/step - loss: 0.4561 - accuracy: 0.9907 - val_loss: 0.6626 - val_accuracy: 0.9167\n",
      "Epoch 21/100\n",
      "34/34 [==============================] - 0s 11ms/step - loss: 0.4076 - accuracy: 0.9917 - val_loss: 0.6158 - val_accuracy: 0.9417\n",
      "Epoch 22/100\n",
      "34/34 [==============================] - 0s 11ms/step - loss: 0.3658 - accuracy: 0.9944 - val_loss: 0.5776 - val_accuracy: 0.9500\n",
      "Epoch 23/100\n",
      "34/34 [==============================] - 1s 24ms/step - loss: 0.3293 - accuracy: 0.9954 - val_loss: 0.5410 - val_accuracy: 0.9500\n",
      "Epoch 24/100\n",
      "34/34 [==============================] - 0s 7ms/step - loss: 0.2966 - accuracy: 0.9963 - val_loss: 0.5087 - val_accuracy: 0.9500\n",
      "Epoch 25/100\n",
      "34/34 [==============================] - 0s 11ms/step - loss: 0.2682 - accuracy: 0.9963 - val_loss: 0.4796 - val_accuracy: 0.9583\n",
      "Epoch 26/100\n",
      "34/34 [==============================] - 0s 11ms/step - loss: 0.2432 - accuracy: 0.9972 - val_loss: 0.4537 - val_accuracy: 0.9583\n",
      "Epoch 27/100\n",
      "34/34 [==============================] - 0s 5ms/step - loss: 0.2210 - accuracy: 0.9981 - val_loss: 0.4293 - val_accuracy: 0.9583\n",
      "Epoch 28/100\n",
      "34/34 [==============================] - 0s 11ms/step - loss: 0.2013 - accuracy: 0.9981 - val_loss: 0.4090 - val_accuracy: 0.9583\n",
      "Epoch 29/100\n",
      "34/34 [==============================] - 0s 11ms/step - loss: 0.1839 - accuracy: 0.9981 - val_loss: 0.3884 - val_accuracy: 0.9667\n",
      "Epoch 30/100\n",
      "34/34 [==============================] - 0s 5ms/step - loss: 0.1684 - accuracy: 0.9981 - val_loss: 0.3691 - val_accuracy: 0.9667\n",
      "Epoch 31/100\n",
      "34/34 [==============================] - 1s 17ms/step - loss: 0.1544 - accuracy: 0.9981 - val_loss: 0.3537 - val_accuracy: 0.9667\n",
      "Epoch 32/100\n",
      "34/34 [==============================] - 0s 12ms/step - loss: 0.1419 - accuracy: 0.9981 - val_loss: 0.3378 - val_accuracy: 0.9667\n",
      "Epoch 33/100\n",
      "34/34 [==============================] - 0s 11ms/step - loss: 0.1308 - accuracy: 0.9981 - val_loss: 0.3244 - val_accuracy: 0.9750\n",
      "Epoch 34/100\n",
      "34/34 [==============================] - 0s 5ms/step - loss: 0.1211 - accuracy: 0.9991 - val_loss: 0.3107 - val_accuracy: 0.9750\n",
      "Epoch 35/100\n",
      "34/34 [==============================] - 0s 5ms/step - loss: 0.1117 - accuracy: 0.9991 - val_loss: 0.2989 - val_accuracy: 0.9750\n",
      "Epoch 36/100\n",
      "34/34 [==============================] - 0s 5ms/step - loss: 0.1036 - accuracy: 0.9991 - val_loss: 0.2879 - val_accuracy: 0.9750\n",
      "Epoch 37/100\n",
      "34/34 [==============================] - 0s 5ms/step - loss: 0.0965 - accuracy: 0.9991 - val_loss: 0.2775 - val_accuracy: 0.9833\n",
      "Epoch 38/100\n",
      "34/34 [==============================] - 0s 11ms/step - loss: 0.0897 - accuracy: 0.9991 - val_loss: 0.2678 - val_accuracy: 0.9833\n",
      "Epoch 39/100\n",
      "34/34 [==============================] - 1s 17ms/step - loss: 0.0836 - accuracy: 0.9991 - val_loss: 0.2585 - val_accuracy: 0.9833\n",
      "Epoch 40/100\n",
      "34/34 [==============================] - 0s 5ms/step - loss: 0.0781 - accuracy: 0.9991 - val_loss: 0.2494 - val_accuracy: 0.9833\n",
      "Epoch 41/100\n",
      "34/34 [==============================] - 0s 5ms/step - loss: 0.0731 - accuracy: 0.9991 - val_loss: 0.2425 - val_accuracy: 0.9833\n",
      "Epoch 42/100\n",
      "34/34 [==============================] - 0s 5ms/step - loss: 0.0685 - accuracy: 0.9991 - val_loss: 0.2343 - val_accuracy: 0.9833\n",
      "Epoch 43/100\n",
      "34/34 [==============================] - 0s 5ms/step - loss: 0.0642 - accuracy: 0.9991 - val_loss: 0.2270 - val_accuracy: 0.9833\n",
      "Epoch 44/100\n",
      "34/34 [==============================] - 1s 17ms/step - loss: 0.0604 - accuracy: 0.9991 - val_loss: 0.2208 - val_accuracy: 0.9833\n",
      "Epoch 45/100\n",
      "34/34 [==============================] - 0s 5ms/step - loss: 0.0568 - accuracy: 0.9991 - val_loss: 0.2139 - val_accuracy: 0.9833\n",
      "Epoch 46/100\n",
      "34/34 [==============================] - 0s 5ms/step - loss: 0.0535 - accuracy: 0.9991 - val_loss: 0.2089 - val_accuracy: 0.9833\n",
      "Epoch 47/100\n",
      "34/34 [==============================] - 1s 11ms/step - loss: 0.0505 - accuracy: 0.9991 - val_loss: 0.2033 - val_accuracy: 0.9833\n",
      "Epoch 48/100\n",
      "34/34 [==============================] - 0s 5ms/step - loss: 0.0476 - accuracy: 0.9991 - val_loss: 0.1973 - val_accuracy: 0.9833\n",
      "Epoch 49/100\n",
      "34/34 [==============================] - 0s 5ms/step - loss: 0.0451 - accuracy: 1.0000 - val_loss: 0.1922 - val_accuracy: 0.9833\n",
      "Epoch 50/100\n",
      "34/34 [==============================] - 0s 11ms/step - loss: 0.0427 - accuracy: 1.0000 - val_loss: 0.1875 - val_accuracy: 0.9833\n",
      "Epoch 51/100\n",
      "34/34 [==============================] - 0s 11ms/step - loss: 0.0405 - accuracy: 1.0000 - val_loss: 0.1835 - val_accuracy: 0.9833\n",
      "Epoch 52/100\n",
      "34/34 [==============================] - 0s 5ms/step - loss: 0.0383 - accuracy: 1.0000 - val_loss: 0.1791 - val_accuracy: 0.9833\n",
      "Epoch 53/100\n",
      "34/34 [==============================] - 0s 5ms/step - loss: 0.0364 - accuracy: 1.0000 - val_loss: 0.1752 - val_accuracy: 0.9833\n",
      "Epoch 54/100\n",
      "34/34 [==============================] - 0s 5ms/step - loss: 0.0347 - accuracy: 1.0000 - val_loss: 0.1708 - val_accuracy: 0.9917\n",
      "Epoch 55/100\n",
      "34/34 [==============================] - 0s 5ms/step - loss: 0.0329 - accuracy: 1.0000 - val_loss: 0.1666 - val_accuracy: 0.9917\n",
      "Epoch 56/100\n",
      "34/34 [==============================] - 0s 6ms/step - loss: 0.0314 - accuracy: 1.0000 - val_loss: 0.1632 - val_accuracy: 0.9917\n",
      "Epoch 57/100\n",
      "34/34 [==============================] - 0s 5ms/step - loss: 0.0299 - accuracy: 1.0000 - val_loss: 0.1596 - val_accuracy: 0.9917\n",
      "Epoch 58/100\n",
      "34/34 [==============================] - 0s 6ms/step - loss: 0.0286 - accuracy: 1.0000 - val_loss: 0.1571 - val_accuracy: 0.9917\n",
      "Epoch 59/100\n",
      "34/34 [==============================] - 0s 8ms/step - loss: 0.0272 - accuracy: 1.0000 - val_loss: 0.1536 - val_accuracy: 0.9917\n",
      "Epoch 60/100\n",
      "34/34 [==============================] - 0s 5ms/step - loss: 0.0260 - accuracy: 1.0000 - val_loss: 0.1505 - val_accuracy: 0.9917\n",
      "Epoch 61/100\n",
      "34/34 [==============================] - 0s 11ms/step - loss: 0.0249 - accuracy: 1.0000 - val_loss: 0.1473 - val_accuracy: 1.0000\n",
      "Epoch 62/100\n",
      "34/34 [==============================] - 0s 5ms/step - loss: 0.0238 - accuracy: 1.0000 - val_loss: 0.1446 - val_accuracy: 0.9917\n",
      "Epoch 63/100\n",
      "34/34 [==============================] - 0s 5ms/step - loss: 0.0228 - accuracy: 1.0000 - val_loss: 0.1419 - val_accuracy: 0.9917\n",
      "Epoch 64/100\n",
      "34/34 [==============================] - 0s 5ms/step - loss: 0.0218 - accuracy: 1.0000 - val_loss: 0.1395 - val_accuracy: 1.0000\n",
      "Epoch 65/100\n",
      "34/34 [==============================] - 0s 11ms/step - loss: 0.0209 - accuracy: 1.0000 - val_loss: 0.1369 - val_accuracy: 1.0000\n",
      "Epoch 66/100\n",
      "34/34 [==============================] - 0s 5ms/step - loss: 0.0201 - accuracy: 1.0000 - val_loss: 0.1351 - val_accuracy: 1.0000\n",
      "Epoch 67/100\n",
      "34/34 [==============================] - 0s 5ms/step - loss: 0.0193 - accuracy: 1.0000 - val_loss: 0.1324 - val_accuracy: 0.9917\n",
      "Epoch 68/100\n",
      "34/34 [==============================] - 0s 5ms/step - loss: 0.0185 - accuracy: 1.0000 - val_loss: 0.1300 - val_accuracy: 1.0000\n",
      "Epoch 69/100\n",
      "34/34 [==============================] - 0s 11ms/step - loss: 0.0177 - accuracy: 1.0000 - val_loss: 0.1279 - val_accuracy: 1.0000\n",
      "Epoch 70/100\n",
      "34/34 [==============================] - 0s 6ms/step - loss: 0.0171 - accuracy: 1.0000 - val_loss: 0.1258 - val_accuracy: 1.0000\n",
      "Epoch 71/100\n",
      "34/34 [==============================] - 0s 5ms/step - loss: 0.0164 - accuracy: 1.0000 - val_loss: 0.1239 - val_accuracy: 1.0000\n",
      "Epoch 72/100\n",
      "34/34 [==============================] - 0s 5ms/step - loss: 0.0158 - accuracy: 1.0000 - val_loss: 0.1217 - val_accuracy: 1.0000\n",
      "Epoch 73/100\n",
      "34/34 [==============================] - 0s 5ms/step - loss: 0.0152 - accuracy: 1.0000 - val_loss: 0.1204 - val_accuracy: 1.0000\n",
      "Epoch 74/100\n",
      "34/34 [==============================] - 0s 5ms/step - loss: 0.0147 - accuracy: 1.0000 - val_loss: 0.1186 - val_accuracy: 1.0000\n",
      "Epoch 75/100\n",
      "34/34 [==============================] - 1s 23ms/step - loss: 0.0141 - accuracy: 1.0000 - val_loss: 0.1163 - val_accuracy: 1.0000\n",
      "Epoch 76/100\n",
      "34/34 [==============================] - 0s 11ms/step - loss: 0.0136 - accuracy: 1.0000 - val_loss: 0.1146 - val_accuracy: 1.0000\n",
      "Epoch 77/100\n",
      "34/34 [==============================] - 0s 5ms/step - loss: 0.0131 - accuracy: 1.0000 - val_loss: 0.1133 - val_accuracy: 1.0000\n",
      "Epoch 78/100\n",
      "34/34 [==============================] - 0s 5ms/step - loss: 0.0127 - accuracy: 1.0000 - val_loss: 0.1118 - val_accuracy: 1.0000\n",
      "Epoch 79/100\n",
      "34/34 [==============================] - 0s 6ms/step - loss: 0.0122 - accuracy: 1.0000 - val_loss: 0.1103 - val_accuracy: 1.0000\n",
      "Epoch 80/100\n",
      "34/34 [==============================] - 0s 5ms/step - loss: 0.0118 - accuracy: 1.0000 - val_loss: 0.1085 - val_accuracy: 1.0000\n",
      "Epoch 81/100\n",
      "34/34 [==============================] - 0s 5ms/step - loss: 0.0114 - accuracy: 1.0000 - val_loss: 0.1068 - val_accuracy: 1.0000\n",
      "Epoch 82/100\n",
      "34/34 [==============================] - 0s 11ms/step - loss: 0.0110 - accuracy: 1.0000 - val_loss: 0.1056 - val_accuracy: 1.0000\n",
      "Epoch 83/100\n",
      "34/34 [==============================] - 0s 5ms/step - loss: 0.0107 - accuracy: 1.0000 - val_loss: 0.1043 - val_accuracy: 1.0000\n",
      "Epoch 84/100\n",
      "34/34 [==============================] - 0s 11ms/step - loss: 0.0103 - accuracy: 1.0000 - val_loss: 0.1028 - val_accuracy: 1.0000\n",
      "Epoch 85/100\n",
      "34/34 [==============================] - 0s 5ms/step - loss: 0.0099 - accuracy: 1.0000 - val_loss: 0.1012 - val_accuracy: 1.0000\n",
      "Epoch 86/100\n",
      "34/34 [==============================] - 0s 5ms/step - loss: 0.0096 - accuracy: 1.0000 - val_loss: 0.0999 - val_accuracy: 1.0000\n",
      "Epoch 87/100\n",
      "34/34 [==============================] - 0s 5ms/step - loss: 0.0093 - accuracy: 1.0000 - val_loss: 0.0988 - val_accuracy: 1.0000\n",
      "Epoch 88/100\n",
      "34/34 [==============================] - 0s 5ms/step - loss: 0.0090 - accuracy: 1.0000 - val_loss: 0.0974 - val_accuracy: 1.0000\n",
      "Epoch 89/100\n",
      "34/34 [==============================] - 0s 5ms/step - loss: 0.0087 - accuracy: 1.0000 - val_loss: 0.0964 - val_accuracy: 1.0000\n",
      "Epoch 90/100\n",
      "34/34 [==============================] - 0s 5ms/step - loss: 0.0085 - accuracy: 1.0000 - val_loss: 0.0953 - val_accuracy: 1.0000\n",
      "Epoch 91/100\n",
      "34/34 [==============================] - 0s 5ms/step - loss: 0.0082 - accuracy: 1.0000 - val_loss: 0.0940 - val_accuracy: 1.0000\n",
      "Epoch 92/100\n",
      "34/34 [==============================] - 0s 5ms/step - loss: 0.0080 - accuracy: 1.0000 - val_loss: 0.0931 - val_accuracy: 1.0000\n",
      "Epoch 93/100\n",
      "34/34 [==============================] - 0s 5ms/step - loss: 0.0077 - accuracy: 1.0000 - val_loss: 0.0918 - val_accuracy: 1.0000\n",
      "Epoch 94/100\n",
      "34/34 [==============================] - 0s 6ms/step - loss: 0.0075 - accuracy: 1.0000 - val_loss: 0.0910 - val_accuracy: 1.0000\n",
      "Epoch 95/100\n",
      "34/34 [==============================] - 0s 5ms/step - loss: 0.0073 - accuracy: 1.0000 - val_loss: 0.0899 - val_accuracy: 1.0000\n",
      "Epoch 96/100\n",
      "34/34 [==============================] - 0s 6ms/step - loss: 0.0070 - accuracy: 1.0000 - val_loss: 0.0889 - val_accuracy: 1.0000\n",
      "Epoch 97/100\n",
      "34/34 [==============================] - 0s 7ms/step - loss: 0.0068 - accuracy: 1.0000 - val_loss: 0.0879 - val_accuracy: 1.0000\n",
      "Epoch 98/100\n",
      "34/34 [==============================] - 0s 9ms/step - loss: 0.0066 - accuracy: 1.0000 - val_loss: 0.0871 - val_accuracy: 1.0000\n",
      "Epoch 99/100\n",
      "34/34 [==============================] - 0s 8ms/step - loss: 0.0065 - accuracy: 1.0000 - val_loss: 0.0861 - val_accuracy: 1.0000\n",
      "Epoch 100/100\n",
      "34/34 [==============================] - 1s 19ms/step - loss: 0.0063 - accuracy: 1.0000 - val_loss: 0.0851 - val_accuracy: 1.0000\n"
     ]
    }
   ],
   "source": [
    "model_1_history = model_1.fit(np.array(train_sentences), \n",
    "                              train_labels_one_hot,\n",
    "                              epochs=100,\n",
    "                              validation_data=(np.array(test_sentences), test_labels_one_hot)) "
   ]
  },
  {
   "cell_type": "code",
   "execution_count": 41,
   "id": "7c6d31c8",
   "metadata": {
    "execution": {
     "iopub.execute_input": "2023-07-08T14:36:41.690162Z",
     "iopub.status.busy": "2023-07-08T14:36:41.689768Z",
     "iopub.status.idle": "2023-07-08T14:36:41.986008Z",
     "shell.execute_reply": "2023-07-08T14:36:41.984792Z"
    },
    "papermill": {
     "duration": 0.369876,
     "end_time": "2023-07-08T14:36:41.988834",
     "exception": false,
     "start_time": "2023-07-08T14:36:41.618958",
     "status": "completed"
    },
    "tags": []
   },
   "outputs": [
    {
     "name": "stdout",
     "output_type": "stream",
     "text": [
      "4/4 [==============================] - 0s 5ms/step - loss: 0.0851 - accuracy: 1.0000\n"
     ]
    },
    {
     "data": {
      "text/plain": [
       "[0.08511494100093842, 1.0]"
      ]
     },
     "execution_count": 41,
     "metadata": {},
     "output_type": "execute_result"
    }
   ],
   "source": [
    "model_1.evaluate(test_sentences, np.array(test_labels_one_hot))"
   ]
  },
  {
   "cell_type": "code",
   "execution_count": 42,
   "id": "ee947843",
   "metadata": {
    "execution": {
     "iopub.execute_input": "2023-07-08T14:36:42.123928Z",
     "iopub.status.busy": "2023-07-08T14:36:42.123308Z",
     "iopub.status.idle": "2023-07-08T14:36:42.339918Z",
     "shell.execute_reply": "2023-07-08T14:36:42.338753Z"
    },
    "papermill": {
     "duration": 0.287363,
     "end_time": "2023-07-08T14:36:42.342492",
     "exception": false,
     "start_time": "2023-07-08T14:36:42.055129",
     "status": "completed"
    },
    "tags": []
   },
   "outputs": [
    {
     "name": "stdout",
     "output_type": "stream",
     "text": [
      "1/1 [==============================] - 0s 153ms/step\n",
      "Probability of Pneumonia: 0.0031\n"
     ]
    }
   ],
   "source": [
    "new_text = [\"This is a new text to classify\"]\n",
    "\n",
    "predictions = model_1.predict(new_text)  # Wrap the vectorized text in an array\n",
    "\n",
    "# Define the class labels\n",
    "labels = ['Psoriasis', 'Varicose Veins', 'Typhoid', 'Chicken pox', 'Impetigo', 'Dengue', 'Fungal infection', 'Common Cold',\n",
    "          'Pneumonia', 'Dimorphic Hemorrhoids', 'Arthritis', 'Acne', 'Bronchial Asthma', 'Hypertension', 'Migraine',\n",
    "          'Cervical spondylosis', 'Jaundice', 'Malaria', 'urinary tract infection', 'allergy',\n",
    "          'gastroesophageal reflux disease', 'drug reaction', 'peptic ulcer disease', 'diabetes']\n",
    "\n",
    "pneumonia_prob = predictions[0, labels.index('Pneumonia')]\n",
    "\n",
    "# Convert the probability to four decimal places\n",
    "pneumonia_prob_formatted = \"{:.4f}\".format(pneumonia_prob)\n",
    "\n",
    "# Print the predicted probability for \"Pneumonia\"\n",
    "print(\"Probability of Pneumonia: {}\".format(pneumonia_prob_formatted))"
   ]
  },
  {
   "cell_type": "code",
   "execution_count": 43,
   "id": "9a7e564b",
   "metadata": {
    "execution": {
     "iopub.execute_input": "2023-07-08T14:36:42.476267Z",
     "iopub.status.busy": "2023-07-08T14:36:42.475288Z",
     "iopub.status.idle": "2023-07-08T14:36:43.891112Z",
     "shell.execute_reply": "2023-07-08T14:36:43.890048Z"
    },
    "papermill": {
     "duration": 1.48629,
     "end_time": "2023-07-08T14:36:43.894884",
     "exception": false,
     "start_time": "2023-07-08T14:36:42.408594",
     "status": "completed"
    },
    "tags": []
   },
   "outputs": [],
   "source": [
    "model_1.save('Conv1_model', save_format='tf')"
   ]
  },
  {
   "cell_type": "code",
   "execution_count": 44,
   "id": "c475b1f4",
   "metadata": {
    "execution": {
     "iopub.execute_input": "2023-07-08T14:36:44.026758Z",
     "iopub.status.busy": "2023-07-08T14:36:44.025782Z",
     "iopub.status.idle": "2023-07-08T14:36:44.328081Z",
     "shell.execute_reply": "2023-07-08T14:36:44.327036Z"
    },
    "papermill": {
     "duration": 0.371186,
     "end_time": "2023-07-08T14:36:44.330587",
     "exception": false,
     "start_time": "2023-07-08T14:36:43.959401",
     "status": "completed"
    },
    "tags": []
   },
   "outputs": [
    {
     "data": {
      "text/plain": [
       "<AxesSubplot:>"
      ]
     },
     "execution_count": 44,
     "metadata": {},
     "output_type": "execute_result"
    },
    {
     "data": {
      "image/png": "[encoded data removed]",
      "text/plain": [
       "<Figure size 640x480 with 1 Axes>"
      ]
     },
     "metadata": {},
     "output_type": "display_data"
    }
   ],
   "source": [
    "pd.DataFrame(model_1_history.history).plot()"
   ]
  },
  {
   "cell_type": "markdown",
   "id": "b6b5c537",
   "metadata": {
    "papermill": {
     "duration": 0.066314,
     "end_time": "2023-07-08T14:36:44.463484",
     "exception": false,
     "start_time": "2023-07-08T14:36:44.397170",
     "status": "completed"
    },
    "tags": []
   },
   "source": [
    "# Transfer learning (USE)"
   ]
  },
  {
   "cell_type": "code",
   "execution_count": 45,
   "id": "1d4920c6",
   "metadata": {
    "execution": {
     "iopub.execute_input": "2023-07-08T14:36:44.596596Z",
     "iopub.status.busy": "2023-07-08T14:36:44.595550Z",
     "iopub.status.idle": "2023-07-08T14:37:01.456286Z",
     "shell.execute_reply": "2023-07-08T14:37:01.455121Z"
    },
    "papermill": {
     "duration": 16.931019,
     "end_time": "2023-07-08T14:37:01.459502",
     "exception": false,
     "start_time": "2023-07-08T14:36:44.528483",
     "status": "completed"
    },
    "tags": []
   },
   "outputs": [],
   "source": [
    "import tensorflow_hub as hub\n",
    "embed = hub.load(\"https://tfhub.dev/google/universal-sentence-encoder/4\")"
   ]
  },
  {
   "cell_type": "code",
   "execution_count": 46,
   "id": "0d6c4f8c",
   "metadata": {
    "execution": {
     "iopub.execute_input": "2023-07-08T14:37:01.594429Z",
     "iopub.status.busy": "2023-07-08T14:37:01.593949Z",
     "iopub.status.idle": "2023-07-08T14:37:07.630970Z",
     "shell.execute_reply": "2023-07-08T14:37:07.629822Z"
    },
    "papermill": {
     "duration": 6.107729,
     "end_time": "2023-07-08T14:37:07.634068",
     "exception": false,
     "start_time": "2023-07-08T14:37:01.526339",
     "status": "completed"
    },
    "tags": []
   },
   "outputs": [],
   "source": [
    "from tensorflow.keras import layers\n",
    "import tensorflow as tf\n",
    "\n",
    "sentence_encoder_layer = hub.KerasLayer(\"https://tfhub.dev/google/universal-sentence-encoder/4\",\n",
    "                                        input_shape = [],\n",
    "                                        dtype=tf.string,\n",
    "                                        trainable = False,\n",
    "                                        name = \"USE\")\n",
    "\n",
    "model_2 = tf.keras.Sequential([\n",
    "    sentence_encoder_layer,\n",
    "    layers.Dense(512, activation=\"relu\"),\n",
    "    layers.Dense(128, activation=\"relu\"),\n",
    "    layers.Dense(num_of_classes, activation=\"softmax\")\n",
    "    ], name =\"USE_model\"\n",
    ")"
   ]
  },
  {
   "cell_type": "code",
   "execution_count": 47,
   "id": "05d90494",
   "metadata": {
    "execution": {
     "iopub.execute_input": "2023-07-08T14:37:07.826675Z",
     "iopub.status.busy": "2023-07-08T14:37:07.826044Z",
     "iopub.status.idle": "2023-07-08T14:37:07.847663Z",
     "shell.execute_reply": "2023-07-08T14:37:07.846557Z"
    },
    "papermill": {
     "duration": 0.137804,
     "end_time": "2023-07-08T14:37:07.850758",
     "exception": false,
     "start_time": "2023-07-08T14:37:07.712954",
     "status": "completed"
    },
    "tags": []
   },
   "outputs": [],
   "source": [
    "model_2.compile(loss=tf.keras.losses.CategoricalCrossentropy(),optimizer = tf.keras.optimizers.Adam(), metrics=[\"accuracy\"])"
   ]
  },
  {
   "cell_type": "code",
   "execution_count": 48,
   "id": "6b142042",
   "metadata": {
    "execution": {
     "iopub.execute_input": "2023-07-08T14:37:08.045161Z",
     "iopub.status.busy": "2023-07-08T14:37:08.044694Z",
     "iopub.status.idle": "2023-07-08T14:37:52.316798Z",
     "shell.execute_reply": "2023-07-08T14:37:52.315608Z"
    },
    "papermill": {
     "duration": 44.374855,
     "end_time": "2023-07-08T14:37:52.319734",
     "exception": false,
     "start_time": "2023-07-08T14:37:07.944879",
     "status": "completed"
    },
    "tags": []
   },
   "outputs": [
    {
     "name": "stdout",
     "output_type": "stream",
     "text": [
      "Epoch 1/50\n",
      "34/34 [==============================] - 6s 30ms/step - loss: 2.7843 - accuracy: 0.4472 - val_loss: 2.1447 - val_accuracy: 0.6000\n",
      "Epoch 2/50\n",
      "34/34 [==============================] - 1s 16ms/step - loss: 1.3111 - accuracy: 0.7796 - val_loss: 0.8714 - val_accuracy: 0.8333\n",
      "Epoch 3/50\n",
      "34/34 [==============================] - 1s 15ms/step - loss: 0.5634 - accuracy: 0.8787 - val_loss: 0.5139 - val_accuracy: 0.8750\n",
      "Epoch 4/50\n",
      "34/34 [==============================] - 1s 17ms/step - loss: 0.3127 - accuracy: 0.9380 - val_loss: 0.3455 - val_accuracy: 0.9250\n",
      "Epoch 5/50\n",
      "34/34 [==============================] - 1s 15ms/step - loss: 0.2042 - accuracy: 0.9648 - val_loss: 0.2286 - val_accuracy: 0.9500\n",
      "Epoch 6/50\n",
      "34/34 [==============================] - 0s 14ms/step - loss: 0.1404 - accuracy: 0.9833 - val_loss: 0.1905 - val_accuracy: 0.9500\n",
      "Epoch 7/50\n",
      "34/34 [==============================] - 0s 14ms/step - loss: 0.0972 - accuracy: 0.9907 - val_loss: 0.1435 - val_accuracy: 0.9833\n",
      "Epoch 8/50\n",
      "34/34 [==============================] - 0s 14ms/step - loss: 0.0671 - accuracy: 0.9963 - val_loss: 0.1321 - val_accuracy: 0.9833\n",
      "Epoch 9/50\n",
      "34/34 [==============================] - 1s 15ms/step - loss: 0.0525 - accuracy: 0.9963 - val_loss: 0.1161 - val_accuracy: 0.9833\n",
      "Epoch 10/50\n",
      "34/34 [==============================] - 0s 14ms/step - loss: 0.0417 - accuracy: 0.9972 - val_loss: 0.1013 - val_accuracy: 0.9833\n",
      "Epoch 11/50\n",
      "34/34 [==============================] - 1s 16ms/step - loss: 0.0325 - accuracy: 0.9981 - val_loss: 0.0942 - val_accuracy: 0.9750\n",
      "Epoch 12/50\n",
      "34/34 [==============================] - 0s 14ms/step - loss: 0.0263 - accuracy: 0.9991 - val_loss: 0.0924 - val_accuracy: 0.9750\n",
      "Epoch 13/50\n",
      "34/34 [==============================] - 0s 15ms/step - loss: 0.0210 - accuracy: 0.9991 - val_loss: 0.0896 - val_accuracy: 0.9750\n",
      "Epoch 14/50\n",
      "34/34 [==============================] - 0s 14ms/step - loss: 0.0183 - accuracy: 1.0000 - val_loss: 0.0835 - val_accuracy: 0.9750\n",
      "Epoch 15/50\n",
      "34/34 [==============================] - 0s 14ms/step - loss: 0.0154 - accuracy: 1.0000 - val_loss: 0.0773 - val_accuracy: 0.9667\n",
      "Epoch 16/50\n",
      "34/34 [==============================] - 0s 14ms/step - loss: 0.0126 - accuracy: 1.0000 - val_loss: 0.0752 - val_accuracy: 0.9667\n",
      "Epoch 17/50\n",
      "34/34 [==============================] - 0s 14ms/step - loss: 0.0111 - accuracy: 1.0000 - val_loss: 0.0671 - val_accuracy: 0.9917\n",
      "Epoch 18/50\n",
      "34/34 [==============================] - 0s 14ms/step - loss: 0.0092 - accuracy: 1.0000 - val_loss: 0.0681 - val_accuracy: 0.9667\n",
      "Epoch 19/50\n",
      "34/34 [==============================] - 0s 14ms/step - loss: 0.0082 - accuracy: 1.0000 - val_loss: 0.0674 - val_accuracy: 0.9917\n",
      "Epoch 20/50\n",
      "34/34 [==============================] - 0s 14ms/step - loss: 0.0073 - accuracy: 1.0000 - val_loss: 0.0690 - val_accuracy: 0.9667\n",
      "Epoch 21/50\n",
      "34/34 [==============================] - 1s 15ms/step - loss: 0.0064 - accuracy: 1.0000 - val_loss: 0.0658 - val_accuracy: 0.9667\n",
      "Epoch 22/50\n",
      "34/34 [==============================] - 0s 14ms/step - loss: 0.0056 - accuracy: 1.0000 - val_loss: 0.0632 - val_accuracy: 0.9667\n",
      "Epoch 23/50\n",
      "34/34 [==============================] - 0s 14ms/step - loss: 0.0051 - accuracy: 1.0000 - val_loss: 0.0678 - val_accuracy: 0.9667\n",
      "Epoch 24/50\n",
      "34/34 [==============================] - 1s 17ms/step - loss: 0.0046 - accuracy: 1.0000 - val_loss: 0.0653 - val_accuracy: 0.9667\n",
      "Epoch 25/50\n",
      "34/34 [==============================] - 1s 15ms/step - loss: 0.0042 - accuracy: 1.0000 - val_loss: 0.0641 - val_accuracy: 0.9667\n",
      "Epoch 26/50\n",
      "34/34 [==============================] - 0s 15ms/step - loss: 0.0038 - accuracy: 1.0000 - val_loss: 0.0624 - val_accuracy: 0.9750\n",
      "Epoch 27/50\n",
      "34/34 [==============================] - 0s 14ms/step - loss: 0.0035 - accuracy: 1.0000 - val_loss: 0.0615 - val_accuracy: 0.9833\n",
      "Epoch 28/50\n",
      "34/34 [==============================] - 0s 14ms/step - loss: 0.0034 - accuracy: 1.0000 - val_loss: 0.0622 - val_accuracy: 0.9750\n",
      "Epoch 29/50\n",
      "34/34 [==============================] - 0s 14ms/step - loss: 0.0030 - accuracy: 1.0000 - val_loss: 0.0622 - val_accuracy: 0.9667\n",
      "Epoch 30/50\n",
      "34/34 [==============================] - 0s 14ms/step - loss: 0.0027 - accuracy: 1.0000 - val_loss: 0.0614 - val_accuracy: 0.9667\n",
      "Epoch 31/50\n",
      "34/34 [==============================] - 0s 14ms/step - loss: 0.0025 - accuracy: 1.0000 - val_loss: 0.0651 - val_accuracy: 0.9667\n",
      "Epoch 32/50\n",
      "34/34 [==============================] - 0s 14ms/step - loss: 0.0023 - accuracy: 1.0000 - val_loss: 0.0615 - val_accuracy: 0.9750\n",
      "Epoch 33/50\n",
      "34/34 [==============================] - 0s 14ms/step - loss: 0.0022 - accuracy: 1.0000 - val_loss: 0.0614 - val_accuracy: 0.9667\n",
      "Epoch 34/50\n",
      "34/34 [==============================] - 0s 14ms/step - loss: 0.0020 - accuracy: 1.0000 - val_loss: 0.0628 - val_accuracy: 0.9667\n",
      "Epoch 35/50\n",
      "34/34 [==============================] - 0s 14ms/step - loss: 0.0019 - accuracy: 1.0000 - val_loss: 0.0606 - val_accuracy: 0.9833\n",
      "Epoch 36/50\n",
      "34/34 [==============================] - 0s 14ms/step - loss: 0.0018 - accuracy: 1.0000 - val_loss: 0.0627 - val_accuracy: 0.9667\n",
      "Epoch 37/50\n",
      "34/34 [==============================] - 0s 14ms/step - loss: 0.0016 - accuracy: 1.0000 - val_loss: 0.0637 - val_accuracy: 0.9667\n",
      "Epoch 38/50\n",
      "34/34 [==============================] - 0s 14ms/step - loss: 0.0016 - accuracy: 1.0000 - val_loss: 0.0615 - val_accuracy: 0.9667\n",
      "Epoch 39/50\n",
      "34/34 [==============================] - 0s 14ms/step - loss: 0.0015 - accuracy: 1.0000 - val_loss: 0.0617 - val_accuracy: 0.9667\n",
      "Epoch 40/50\n",
      "34/34 [==============================] - 0s 14ms/step - loss: 0.0014 - accuracy: 1.0000 - val_loss: 0.0641 - val_accuracy: 0.9667\n",
      "Epoch 41/50\n",
      "34/34 [==============================] - 1s 15ms/step - loss: 0.0013 - accuracy: 1.0000 - val_loss: 0.0605 - val_accuracy: 0.9750\n",
      "Epoch 42/50\n",
      "34/34 [==============================] - 0s 15ms/step - loss: 0.0012 - accuracy: 1.0000 - val_loss: 0.0610 - val_accuracy: 0.9667\n",
      "Epoch 43/50\n",
      "34/34 [==============================] - 0s 14ms/step - loss: 0.0012 - accuracy: 1.0000 - val_loss: 0.0606 - val_accuracy: 0.9667\n",
      "Epoch 44/50\n",
      "34/34 [==============================] - 1s 16ms/step - loss: 0.0011 - accuracy: 1.0000 - val_loss: 0.0609 - val_accuracy: 0.9667\n",
      "Epoch 45/50\n",
      "34/34 [==============================] - 1s 15ms/step - loss: 0.0010 - accuracy: 1.0000 - val_loss: 0.0619 - val_accuracy: 0.9667\n",
      "Epoch 46/50\n",
      "34/34 [==============================] - 0s 15ms/step - loss: 9.8596e-04 - accuracy: 1.0000 - val_loss: 0.0612 - val_accuracy: 0.9750\n",
      "Epoch 47/50\n",
      "34/34 [==============================] - 0s 15ms/step - loss: 9.5010e-04 - accuracy: 1.0000 - val_loss: 0.0605 - val_accuracy: 0.9667\n",
      "Epoch 48/50\n",
      "34/34 [==============================] - 0s 14ms/step - loss: 8.9332e-04 - accuracy: 1.0000 - val_loss: 0.0623 - val_accuracy: 0.9667\n",
      "Epoch 49/50\n",
      "34/34 [==============================] - 1s 16ms/step - loss: 8.4879e-04 - accuracy: 1.0000 - val_loss: 0.0616 - val_accuracy: 0.9750\n",
      "Epoch 50/50\n",
      "34/34 [==============================] - 0s 14ms/step - loss: 8.1339e-04 - accuracy: 1.0000 - val_loss: 0.0606 - val_accuracy: 0.9750\n"
     ]
    }
   ],
   "source": [
    "model_2_history = model_2.fit(np.array(train_sentences), \n",
    "                              train_labels_one_hot,\n",
    "                              epochs=50,\n",
    "                              validation_data=(np.array(test_sentences), test_labels_one_hot)) "
   ]
  },
  {
   "cell_type": "code",
   "execution_count": 49,
   "id": "d37dbe09",
   "metadata": {
    "execution": {
     "iopub.execute_input": "2023-07-08T14:37:52.528645Z",
     "iopub.status.busy": "2023-07-08T14:37:52.527525Z",
     "iopub.status.idle": "2023-07-08T14:37:52.657161Z",
     "shell.execute_reply": "2023-07-08T14:37:52.656080Z"
    },
    "papermill": {
     "duration": 0.236919,
     "end_time": "2023-07-08T14:37:52.659564",
     "exception": false,
     "start_time": "2023-07-08T14:37:52.422645",
     "status": "completed"
    },
    "tags": []
   },
   "outputs": [
    {
     "name": "stdout",
     "output_type": "stream",
     "text": [
      "4/4 [==============================] - 0s 15ms/step - loss: 0.0606 - accuracy: 0.9750\n"
     ]
    },
    {
     "data": {
      "text/plain": [
       "[0.06063241884112358, 0.9750000238418579]"
      ]
     },
     "execution_count": 49,
     "metadata": {},
     "output_type": "execute_result"
    }
   ],
   "source": [
    "model_2.evaluate(np.array(test_sentences), np.array(test_labels_one_hot))"
   ]
  },
  {
   "cell_type": "code",
   "execution_count": 50,
   "id": "91c919e2",
   "metadata": {
    "execution": {
     "iopub.execute_input": "2023-07-08T14:37:52.873218Z",
     "iopub.status.busy": "2023-07-08T14:37:52.872836Z",
     "iopub.status.idle": "2023-07-08T14:37:53.391596Z",
     "shell.execute_reply": "2023-07-08T14:37:53.390427Z"
    },
    "papermill": {
     "duration": 0.626006,
     "end_time": "2023-07-08T14:37:53.394087",
     "exception": false,
     "start_time": "2023-07-08T14:37:52.768081",
     "status": "completed"
    },
    "tags": []
   },
   "outputs": [
    {
     "name": "stdout",
     "output_type": "stream",
     "text": [
      "1/1 [==============================] - 0s 432ms/step\n"
     ]
    },
    {
     "data": {
      "text/plain": [
       "array([[0.03870001, 0.11615928, 0.05536829, 0.03885481, 0.01870256,\n",
       "        0.00464289, 0.00285989, 0.00662289, 0.15643871, 0.0021156 ,\n",
       "        0.00237979, 0.00749414, 0.00189563, 0.00309166, 0.00264437,\n",
       "        0.02392649, 0.02448164, 0.00517003, 0.00251387, 0.01458008,\n",
       "        0.35222632, 0.0028142 , 0.00143976, 0.11487708]], dtype=float32)"
      ]
     },
     "execution_count": 50,
     "metadata": {},
     "output_type": "execute_result"
    }
   ],
   "source": [
    "new_text = [\"This is a new text to classify\"]\n",
    "\n",
    "predictions = model_2.predict(new_text)  # Wrap the vectorized text in an array\n",
    "\n",
    "predictions"
   ]
  },
  {
   "cell_type": "code",
   "execution_count": 51,
   "id": "93f9f886",
   "metadata": {
    "execution": {
     "iopub.execute_input": "2023-07-08T14:37:53.606113Z",
     "iopub.status.busy": "2023-07-08T14:37:53.605763Z",
     "iopub.status.idle": "2023-07-08T14:37:53.614984Z",
     "shell.execute_reply": "2023-07-08T14:37:53.613755Z"
    },
    "papermill": {
     "duration": 0.116503,
     "end_time": "2023-07-08T14:37:53.617171",
     "exception": false,
     "start_time": "2023-07-08T14:37:53.500668",
     "status": "completed"
    },
    "tags": []
   },
   "outputs": [
    {
     "name": "stdout",
     "output_type": "stream",
     "text": [
      "Probability of Pneumonia: 0.1564\n"
     ]
    }
   ],
   "source": [
    "# Define the class labels\n",
    "labels = ['Psoriasis', 'Varicose Veins', 'Typhoid', 'Chicken pox', 'Impetigo', 'Dengue', 'Fungal infection', 'Common Cold',\n",
    "          'Pneumonia', 'Dimorphic Hemorrhoids', 'Arthritis', 'Acne', 'Bronchial Asthma', 'Hypertension', 'Migraine',\n",
    "          'Cervical spondylosis', 'Jaundice', 'Malaria', 'urinary tract infection', 'allergy',\n",
    "          'gastroesophageal reflux disease', 'drug reaction', 'peptic ulcer disease', 'diabetes']\n",
    "\n",
    "pneumonia_prob = predictions[0, labels.index('Pneumonia')]\n",
    "\n",
    "# Convert the probability to four decimal places\n",
    "pneumonia_prob_formatted = \"{:.4f}\".format(pneumonia_prob)\n",
    "\n",
    "# Print the predicted probability for \"Pneumonia\"\n",
    "print(\"Probability of Pneumonia: {}\".format(pneumonia_prob_formatted))"
   ]
  },
  {
   "cell_type": "code",
   "execution_count": 52,
   "id": "af2b6714",
   "metadata": {
    "execution": {
     "iopub.execute_input": "2023-07-08T14:37:53.835774Z",
     "iopub.status.busy": "2023-07-08T14:37:53.835349Z",
     "iopub.status.idle": "2023-07-08T14:37:54.117137Z",
     "shell.execute_reply": "2023-07-08T14:37:54.115897Z"
    },
    "papermill": {
     "duration": 0.390329,
     "end_time": "2023-07-08T14:37:54.119804",
     "exception": false,
     "start_time": "2023-07-08T14:37:53.729475",
     "status": "completed"
    },
    "tags": []
   },
   "outputs": [
    {
     "data": {
      "text/plain": [
       "<AxesSubplot:>"
      ]
     },
     "execution_count": 52,
     "metadata": {},
     "output_type": "execute_result"
    },
    {
     "data": {
      "image/png": "[encoded data removed]",
      "text/plain": [
       "<Figure size 640x480 with 1 Axes>"
      ]
     },
     "metadata": {},
     "output_type": "display_data"
    }
   ],
   "source": [
    "pd.DataFrame(model_2_history.history).plot()"
   ]
  }
 ],
 "metadata": {
  "kernelspec": {
   "display_name": "Python 3",
   "language": "python",
   "name": "python3"
  },
  "language_info": {
   "codemirror_mode": {
    "name": "ipython",
    "version": 3
   },
   "file_extension": ".py",
   "mimetype": "text/x-python",
   "name": "python",
   "nbconvert_exporter": "python",
   "pygments_lexer": "ipython3",
   "version": "3.7.12"
  },
  "papermill": {
   "default_parameters": {},
   "duration": 187.254213,
   "end_time": "2023-07-08T14:37:57.706544",
   "environment_variables": {},
   "exception": null,
   "input_path": "__notebook__.ipynb",
   "output_path": "__notebook__.ipynb",
   "parameters": {},
   "start_time": "2023-07-08T14:34:50.452331",
   "version": "2.4.0"
  }
 },
 "nbformat": 4,
 "nbformat_minor": 5
}
